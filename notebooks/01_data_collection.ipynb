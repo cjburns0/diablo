{
 "cells": [
  {
   "cell_type": "markdown",
   "metadata": {},
   "source": [
    "# Mount Diablo Challenge: Data Collection\n",
    "\n",
    "This notebook demonstrates the data collection process for the Mount Diablo Challenge race analysis.\n",
    "\n",
    "## Steps:\n",
    "1. Scrape race results from all years\n",
    "2. Fetch historical weather data\n",
    "3. Store data in SQLite database"
   ]
  },
  {
   "cell_type": "code",
   "execution_count": null,
   "metadata": {},
   "outputs": [],
   "source": [
    "# Setup\n",
    "import sys\n",
    "import os\n",
    "\n",
    "# Add parent directory to path\n",
    "sys.path.insert(0, os.path.dirname(os.getcwd()))\n",
    "sys.path.insert(0, os.path.join(os.path.dirname(os.getcwd()), 'src'))\n",
    "\n",
    "from scraper import DiabloScraper\n",
    "from weather import WeatherFetcher\n",
    "from database import DiabloDatabase\n",
    "import config\n",
    "\n",
    "import pandas as pd\n",
    "from datetime import datetime"
   ]
  },
  {
   "cell_type": "markdown",
   "metadata": {},
   "source": [
    "## 1. Scrape Race Results\n",
    "\n",
    "Scrape race results from the Mount Diablo Challenge website for all available years."
   ]
  },
  {
   "cell_type": "code",
   "execution_count": null,
   "metadata": {},
   "outputs": [],
   "source": [
    "# Initialize scraper\n",
    "scraper = DiabloScraper()\n",
    "\n",
    "# Available years\n",
    "years = config.RACE_YEARS\n",
    "print(f\"Will scrape data for years: {years}\")"
   ]
  },
  {
   "cell_type": "code",
   "execution_count": null,
   "metadata": {},
   "outputs": [],
   "source": [
    "# Scrape a single year for demonstration (2025)\n",
    "demo_year = 2025\n",
    "results_2025 = scraper.scrape_year(demo_year)\n",
    "\n",
    "print(f\"\\nScraped {len(results_2025)} results for {demo_year}\")\n",
    "print(f\"\\nFirst result:\")\n",
    "print(results_2025[0])"
   ]
  },
  {
   "cell_type": "code",
   "execution_count": null,
   "metadata": {},
   "outputs": [],
   "source": [
    "# Convert to DataFrame for easier viewing\n",
    "df_2025 = pd.DataFrame(results_2025)\n",
    "print(f\"Data shape: {df_2025.shape}\")\n",
    "print(f\"\\nColumns: {df_2025.columns.tolist()}\")\n",
    "df_2025.head(10)"
   ]
  },
  {
   "cell_type": "code",
   "execution_count": null,
   "metadata": {},
   "outputs": [],
   "source": [
    "# Uncomment to scrape ALL years (this will take several minutes)\n",
    "# all_results = scraper.scrape_all_years(years)\n",
    "# print(f\"Total results scraped: {len(all_results)}\")"
   ]
  },
  {
   "cell_type": "markdown",
   "metadata": {},
   "source": [
    "## 2. Fetch Weather Data\n",
    "\n",
    "Fetch historical weather data from Open-Meteo API for race dates."
   ]
  },
  {
   "cell_type": "code",
   "execution_count": null,
   "metadata": {},
   "outputs": [],
   "source": [
    "# Initialize weather fetcher\n",
    "fetcher = WeatherFetcher()\n",
    "\n",
    "# Get race date from 2025 results\n",
    "race_date_2025 = results_2025[0]['race_date']\n",
    "print(f\"Race date for 2025: {race_date_2025}\")\n",
    "\n",
    "# Fetch weather for start location\n",
    "weather_start = fetcher.fetch_weather_for_race(2025, race_date_2025, 'start')\n",
    "print(f\"\\nFetched {len(weather_start)} weather records for START location\")\n",
    "\n",
    "# Fetch weather for summit location\n",
    "weather_summit = fetcher.fetch_weather_for_race(2025, race_date_2025, 'summit')\n",
    "print(f\"Fetched {len(weather_summit)} weather records for SUMMIT location\")"
   ]
  },
  {
   "cell_type": "code",
   "execution_count": null,
   "metadata": {},
   "outputs": [],
   "source": [
    "# View weather data\n",
    "df_weather = pd.DataFrame(weather_start + weather_summit)\n",
    "print(f\"\\nWeather data shape: {df_weather.shape}\")\n",
    "df_weather"
   ]
  },
  {
   "cell_type": "code",
   "execution_count": null,
   "metadata": {},
   "outputs": [],
   "source": [
    "# Calculate weather summary\n",
    "summary = fetcher.get_weather_summary(weather_start + weather_summit)\n",
    "\n",
    "print(\"\\nWeather Summary for 2025:\")\n",
    "print(\"=\"*60)\n",
    "for location, stats in summary.items():\n",
    "    print(f\"\\n{location.upper()}:\")\n",
    "    for key, value in stats.items():\n",
    "        if value is not None:\n",
    "            print(f\"  {key:20s}: {value:6.2f}\")"
   ]
  },
  {
   "cell_type": "markdown",
   "metadata": {},
   "source": [
    "## 3. Store Data in Database\n",
    "\n",
    "Store the scraped data in SQLite database for persistent storage and analysis."
   ]
  },
  {
   "cell_type": "code",
   "execution_count": null,
   "metadata": {},
   "outputs": [],
   "source": [
    "# Initialize database\n",
    "db = DiabloDatabase()\n",
    "db.connect()\n",
    "db.create_tables()\n",
    "\n",
    "print(\"Database initialized\")"
   ]
  },
  {
   "cell_type": "code",
   "execution_count": null,
   "metadata": {},
   "outputs": [],
   "source": [
    "# Insert race results\n",
    "db.insert_race_results(results_2025)\n",
    "print(f\"Inserted {len(results_2025)} race results\")"
   ]
  },
  {
   "cell_type": "code",
   "execution_count": null,
   "metadata": {},
   "outputs": [],
   "source": [
    "# Insert weather data\n",
    "all_weather = weather_start + weather_summit\n",
    "db.insert_weather_data(all_weather)\n",
    "print(f\"Inserted {len(all_weather)} weather records\")"
   ]
  },
  {
   "cell_type": "code",
   "execution_count": null,
   "metadata": {},
   "outputs": [],
   "source": [
    "# Check database contents\n",
    "counts = db.get_table_counts()\n",
    "print(\"\\nDatabase contents:\")\n",
    "for table, count in counts.items():\n",
    "    print(f\"  {table}: {count} records\")"
   ]
  },
  {
   "cell_type": "code",
   "execution_count": null,
   "metadata": {},
   "outputs": [],
   "source": [
    "# Query data from database\n",
    "query = \"SELECT * FROM race_results WHERE year = 2025 LIMIT 10\"\n",
    "df_from_db = pd.read_sql_query(query, db.conn)\n",
    "\n",
    "print(\"Sample data from database:\")\n",
    "df_from_db"
   ]
  },
  {
   "cell_type": "code",
   "execution_count": null,
   "metadata": {},
   "outputs": [],
   "source": [
    "# Close database connection\n",
    "db.close()\n",
    "print(\"Database connection closed\")"
   ]
  },
  {
   "cell_type": "markdown",
   "metadata": {},
   "source": [
    "## Next Steps\n",
    "\n",
    "- To collect data for all years, run the main pipeline script: `python3 main.py`\n",
    "- For analysis, see notebook `02_analysis.ipynb`\n",
    "- For visualizations, see notebook `03_visualization.ipynb`"
   ]
  }
 ],
 "metadata": {
  "kernelspec": {
   "display_name": "Python 3",
   "language": "python",
   "name": "python3"
  },
  "language_info": {
   "codemirror_mode": {
    "name": "ipython",
    "version": 3
   },
   "file_extension": ".py",
   "mimetype": "text/x-python",
   "name": "python",
   "nbconvert_exporter": "python",
   "pygments_lexer": "ipython3",
   "version": "3.9.6"
  }
 },
 "nbformat": 4,
 "nbformat_minor": 4
}
