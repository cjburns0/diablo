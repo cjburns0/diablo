{
 "cells": [
  {
   "cell_type": "markdown",
   "metadata": {},
   "source": [
    "# Mount Diablo Challenge: Statistical Analysis\n",
    "\n",
    "This notebook performs statistical analysis on the race results and weather data.\n",
    "\n",
    "## Analysis Goals:\n",
    "1. Calculate yearly race time statistics\n",
    "2. Analyze weather conditions across years\n",
    "3. Correlate weather with race performance\n",
    "4. Identify trends and patterns"
   ]
  },
  {
   "cell_type": "code",
   "execution_count": null,
   "metadata": {},
   "outputs": [],
   "source": [
    "# Setup\n",
    "import sys\n",
    "import os\n",
    "\n",
    "# Add parent directory to path\n",
    "sys.path.insert(0, os.path.dirname(os.getcwd()))\n",
    "sys.path.insert(0, os.path.join(os.path.dirname(os.getcwd()), 'src'))\n",
    "\n",
    "from database import DiabloDatabase\n",
    "from analysis import DiabloAnalyzer\n",
    "import config\n",
    "\n",
    "import pandas as pd\n",
    "import numpy as np\n",
    "import matplotlib.pyplot as plt\n",
    "import seaborn as sns\n",
    "\n",
    "# Set plot style\n",
    "sns.set_style('whitegrid')\n",
    "plt.rcParams['figure.figsize'] = (12, 6)\n",
    "\n",
    "%matplotlib inline"
   ]
  },
  {
   "cell_type": "markdown",
   "metadata": {},
   "source": [
    "## 1. Load Data from Database"
   ]
  },
  {
   "cell_type": "code",
   "execution_count": null,
   "metadata": {},
   "outputs": [],
   "source": [
    "# Initialize analyzer\n",
    "analyzer = DiabloAnalyzer()\n",
    "\n",
    "# Load race results\n",
    "df_race = analyzer.get_race_results_df()\n",
    "\n",
    "print(f\"Loaded {len(df_race)} race results\")\n",
    "print(f\"Years available: {sorted(df_race['year'].unique())}\")\n",
    "print(f\"\\nData shape: {df_race.shape}\")\n",
    "print(f\"Columns: {df_race.columns.tolist()}\")"
   ]
  },
  {
   "cell_type": "code",
   "execution_count": null,
   "metadata": {},
   "outputs": [],
   "source": [
    "# View sample data\n",
    "df_race.head()"
   ]
  },
  {
   "cell_type": "code",
   "execution_count": null,
   "metadata": {},
   "outputs": [],
   "source": [
    "# Load weather data\n",
    "df_weather = analyzer.get_weather_data_df()\n",
    "\n",
    "print(f\"\\nLoaded {len(df_weather)} weather records\")\n",
    "print(f\"Locations: {df_weather['location'].unique()}\")\n",
    "\n",
    "df_weather.head()"
   ]
  },
  {
   "cell_type": "markdown",
   "metadata": {},
   "source": [
    "## 2. Race Time Statistics by Year"
   ]
  },
  {
   "cell_type": "code",
   "execution_count": null,
   "metadata": {},
   "outputs": [],
   "source": [
    "# Calculate yearly statistics\n",
    "stats = analyzer.calculate_yearly_statistics()\n",
    "\n",
    "print(\"Yearly Race Statistics:\")\n",
    "stats"
   ]
  },
  {
   "cell_type": "code",
   "execution_count": null,
   "metadata": {},
   "outputs": [],
   "source": [
    "# Distribution of chip times for each year\n",
    "fig, ax = plt.subplots(figsize=(14, 6))\n",
    "\n",
    "# Convert to minutes for better readability\n",
    "df_race['chip_time_minutes'] = df_race['chip_time_seconds'] / 60\n",
    "\n",
    "# Box plot\n",
    "df_race.boxplot(column='chip_time_minutes', by='year', ax=ax, figsize=(14, 6))\n",
    "ax.set_xlabel('Year', fontsize=12, fontweight='bold')\n",
    "ax.set_ylabel('Chip Time (minutes)', fontsize=12, fontweight='bold')\n",
    "ax.set_title('Distribution of Chip Times by Year', fontsize=14, fontweight='bold')\n",
    "plt.suptitle('')  # Remove default title\n",
    "plt.xticks(rotation=0)\n",
    "plt.tight_layout()\n",
    "plt.show()"
   ]
  },
  {
   "cell_type": "code",
   "execution_count": null,
   "metadata": {},
   "outputs": [],
   "source": [
    "# Violin plot for distribution\n",
    "fig, ax = plt.subplots(figsize=(14, 6))\n",
    "\n",
    "sns.violinplot(data=df_race, x='year', y='chip_time_minutes', ax=ax)\n",
    "ax.set_xlabel('Year', fontsize=12, fontweight='bold')\n",
    "ax.set_ylabel('Chip Time (minutes)', fontsize=12, fontweight='bold')\n",
    "ax.set_title('Chip Time Distribution by Year (Violin Plot)', fontsize=14, fontweight='bold')\n",
    "plt.xticks(rotation=0)\n",
    "plt.tight_layout()\n",
    "plt.show()"
   ]
  },
  {
   "cell_type": "markdown",
   "metadata": {},
   "source": [
    "## 3. Weather Analysis"
   ]
  },
  {
   "cell_type": "code",
   "execution_count": null,
   "metadata": {},
   "outputs": [],
   "source": [
    "# Weather statistics by year\n",
    "weather_stats = analyzer.calculate_weather_statistics_by_year()\n",
    "\n",
    "print(\"Weather Statistics by Year and Location:\")\n",
    "weather_stats"
   ]
  },
  {
   "cell_type": "code",
   "execution_count": null,
   "metadata": {},
   "outputs": [],
   "source": [
    "# Compare wind speeds at start vs summit\n",
    "fig, (ax1, ax2) = plt.subplots(1, 2, figsize=(16, 6))\n",
    "\n",
    "# Pivot data for plotting\n",
    "wind_avg = weather_stats.pivot_table(\n",
    "    index='year', \n",
    "    columns='location', \n",
    "    values='windspeed_10m_mean'\n",
    ")\n",
    "\n",
    "wind_max = weather_stats.pivot_table(\n",
    "    index='year', \n",
    "    columns='location', \n",
    "    values='wind_gusts_10m_max'\n",
    ")\n",
    "\n",
    "# Plot average wind speeds\n",
    "if not wind_avg.empty:\n",
    "    wind_avg.plot(ax=ax1, marker='o', linewidth=2, markersize=8)\n",
    "    ax1.set_xlabel('Year', fontsize=12, fontweight='bold')\n",
    "    ax1.set_ylabel('Average Wind Speed (mph)', fontsize=12, fontweight='bold')\n",
    "    ax1.set_title('Average Wind Speed Comparison', fontsize=14, fontweight='bold')\n",
    "    ax1.legend(title='Location', fontsize=10)\n",
    "    ax1.grid(True, alpha=0.3)\n",
    "\n",
    "# Plot max wind gusts\n",
    "if not wind_max.empty:\n",
    "    wind_max.plot(ax=ax2, marker='s', linewidth=2, markersize=8)\n",
    "    ax2.set_xlabel('Year', fontsize=12, fontweight='bold')\n",
    "    ax2.set_ylabel('Max Wind Gust (mph)', fontsize=12, fontweight='bold')\n",
    "    ax2.set_title('Max Wind Gusts Comparison', fontsize=14, fontweight='bold')\n",
    "    ax2.legend(title='Location', fontsize=10)\n",
    "    ax2.grid(True, alpha=0.3)\n",
    "\n",
    "plt.tight_layout()\n",
    "plt.show()"
   ]
  },
  {
   "cell_type": "markdown",
   "metadata": {},
   "source": [
    "## 4. Performance vs Weather Correlation"
   ]
  },
  {
   "cell_type": "code",
   "execution_count": null,
   "metadata": {},
   "outputs": [],
   "source": [
    "# Get combined statistics\n",
    "combined = analyzer.get_combined_statistics()\n",
    "\n",
    "print(\"Combined Race and Weather Statistics:\")\n",
    "combined"
   ]
  },
  {
   "cell_type": "code",
   "execution_count": null,
   "metadata": {},
   "outputs": [],
   "source": [
    "# Plot median times with wind overlay\n",
    "if not combined.empty and 'windspeed_10m_mean_summit' in combined.columns:\n",
    "    fig, ax1 = plt.subplots(figsize=(14, 6))\n",
    "    \n",
    "    # Chip times\n",
    "    color1 = 'tab:blue'\n",
    "    ax1.set_xlabel('Year', fontsize=12, fontweight='bold')\n",
    "    ax1.set_ylabel('Median Chip Time (minutes)', fontsize=12, fontweight='bold', color=color1)\n",
    "    ax1.plot(combined['year'], combined['median'] / 60, \n",
    "             marker='o', color=color1, linewidth=2, markersize=8, label='Median Time')\n",
    "    ax1.tick_params(axis='y', labelcolor=color1)\n",
    "    ax1.grid(True, alpha=0.3)\n",
    "    \n",
    "    # Wind speeds on secondary axis\n",
    "    ax2 = ax1.twinx()\n",
    "    color2 = 'tab:red'\n",
    "    ax2.set_ylabel('Wind Speed (mph)', fontsize=12, fontweight='bold', color=color2)\n",
    "    ax2.plot(combined['year'], combined['windspeed_10m_mean_summit'], \n",
    "             marker='s', color=color2, linewidth=2, markersize=8, \n",
    "             label='Avg Wind (Summit)', linestyle='--')\n",
    "    ax2.tick_params(axis='y', labelcolor=color2)\n",
    "    \n",
    "    plt.title('Race Performance vs Wind Conditions', fontsize=14, fontweight='bold')\n",
    "    \n",
    "    # Combine legends\n",
    "    lines1, labels1 = ax1.get_legend_handles_labels()\n",
    "    lines2, labels2 = ax2.get_legend_handles_labels()\n",
    "    ax1.legend(lines1 + lines2, labels1 + labels2, loc='best')\n",
    "    \n",
    "    plt.tight_layout()\n",
    "    plt.show()"
   ]
  },
  {
   "cell_type": "code",
   "execution_count": null,
   "metadata": {},
   "outputs": [],
   "source": [
    "# Correlation analysis (if multiple years available)\n",
    "if len(combined) > 2 and 'windspeed_10m_mean_summit' in combined.columns:\n",
    "    # Calculate correlation between median time and wind speed\n",
    "    corr_wind = combined[['median', 'windspeed_10m_mean_summit']].corr()\n",
    "    \n",
    "    print(\"Correlation between median chip time and summit wind speed:\")\n",
    "    print(corr_wind)\n",
    "    \n",
    "    # Scatter plot\n",
    "    fig, ax = plt.subplots(figsize=(10, 6))\n",
    "    \n",
    "    ax.scatter(combined['windspeed_10m_mean_summit'], \n",
    "               combined['median'] / 60, \n",
    "               s=100, alpha=0.6)\n",
    "    \n",
    "    # Add year labels\n",
    "    for idx, row in combined.iterrows():\n",
    "        ax.annotate(str(int(row['year'])), \n",
    "                   (row['windspeed_10m_mean_summit'], row['median'] / 60),\n",
    "                   xytext=(5, 5), textcoords='offset points')\n",
    "    \n",
    "    ax.set_xlabel('Average Wind Speed at Summit (mph)', fontsize=12, fontweight='bold')\n",
    "    ax.set_ylabel('Median Chip Time (minutes)', fontsize=12, fontweight='bold')\n",
    "    ax.set_title('Chip Time vs Wind Speed', fontsize=14, fontweight='bold')\n",
    "    ax.grid(True, alpha=0.3)\n",
    "    \n",
    "    plt.tight_layout()\n",
    "    plt.show()"
   ]
  },
  {
   "cell_type": "markdown",
   "metadata": {},
   "source": [
    "## 5. Demographic Analysis"
   ]
  },
  {
   "cell_type": "code",
   "execution_count": null,
   "metadata": {},
   "outputs": [],
   "source": [
    "# Gender distribution\n",
    "fig, (ax1, ax2) = plt.subplots(1, 2, figsize=(14, 6))\n",
    "\n",
    "# Count by gender\n",
    "gender_counts = df_race.groupby(['year', 'gender']).size().unstack(fill_value=0)\n",
    "gender_counts.plot(kind='bar', ax=ax1, stacked=False)\n",
    "ax1.set_xlabel('Year', fontsize=12, fontweight='bold')\n",
    "ax1.set_ylabel('Number of Racers', fontsize=12, fontweight='bold')\n",
    "ax1.set_title('Participation by Gender', fontsize=14, fontweight='bold')\n",
    "ax1.legend(title='Gender')\n",
    "plt.setp(ax1.xaxis.get_majorticklabels(), rotation=0)\n",
    "\n",
    "# Average times by gender\n",
    "gender_times = df_race.groupby(['year', 'gender'])['chip_time_minutes'].mean().unstack()\n",
    "gender_times.plot(kind='line', ax=ax2, marker='o', linewidth=2, markersize=8)\n",
    "ax2.set_xlabel('Year', fontsize=12, fontweight='bold')\n",
    "ax2.set_ylabel('Average Chip Time (minutes)', fontsize=12, fontweight='bold')\n",
    "ax2.set_title('Average Times by Gender', fontsize=14, fontweight='bold')\n",
    "ax2.legend(title='Gender')\n",
    "ax2.grid(True, alpha=0.3)\n",
    "\n",
    "plt.tight_layout()\n",
    "plt.show()"
   ]
  },
  {
   "cell_type": "code",
   "execution_count": null,
   "metadata": {},
   "outputs": [],
   "source": [
    "# Age distribution\n",
    "fig, ax = plt.subplots(figsize=(12, 6))\n",
    "\n",
    "df_race[df_race['age'].notna()]['age'].hist(bins=30, ax=ax, edgecolor='black')\n",
    "ax.set_xlabel('Age', fontsize=12, fontweight='bold')\n",
    "ax.set_ylabel('Number of Racers', fontsize=12, fontweight='bold')\n",
    "ax.set_title('Age Distribution of All Racers', fontsize=14, fontweight='bold')\n",
    "ax.grid(True, alpha=0.3, axis='y')\n",
    "\n",
    "plt.tight_layout()\n",
    "plt.show()"
   ]
  },
  {
   "cell_type": "markdown",
   "metadata": {},
   "source": [
    "## 6. Key Insights\n",
    "\n",
    "Summary of key findings from the analysis:"
   ]
  },
  {
   "cell_type": "code",
   "execution_count": null,
   "metadata": {},
   "outputs": [],
   "source": [
    "# Print summary insights\n",
    "print(\"KEY INSIGHTS\")\n",
    "print(\"=\"*60)\n",
    "\n",
    "# Overall statistics\n",
    "total_racers = len(df_race)\n",
    "years_available = df_race['year'].nunique()\n",
    "avg_participants = df_race.groupby('year').size().mean()\n",
    "\n",
    "print(f\"\\nTotal racers in database: {total_racers}\")\n",
    "print(f\"Years analyzed: {years_available}\")\n",
    "print(f\"Average participants per year: {avg_participants:.0f}\")\n",
    "\n",
    "# Fastest times\n",
    "print(f\"\\nFastest time overall: {df_race['chip_time_minutes'].min():.2f} minutes\")\n",
    "print(f\"Slowest time overall: {df_race['chip_time_minutes'].max():.2f} minutes\")\n",
    "print(f\"Overall average: {df_race['chip_time_minutes'].mean():.2f} minutes\")\n",
    "print(f\"Overall median: {df_race['chip_time_minutes'].median():.2f} minutes\")\n",
    "\n",
    "# Gender breakdown\n",
    "if 'gender' in df_race.columns:\n",
    "    gender_pct = df_race['gender'].value_counts(normalize=True) * 100\n",
    "    print(f\"\\nGender distribution:\")\n",
    "    for gender, pct in gender_pct.items():\n",
    "        print(f\"  {gender}: {pct:.1f}%\")"
   ]
  },
  {
   "cell_type": "code",
   "execution_count": null,
   "metadata": {},
   "outputs": [],
   "source": [
    "# Close analyzer\n",
    "analyzer.close()\n",
    "print(\"\\nAnalysis complete!\")"
   ]
  }
 ],
 "metadata": {
  "kernelspec": {
   "display_name": "Python 3",
   "language": "python",
   "name": "python3"
  },
  "language_info": {
   "codemirror_mode": {
    "name": "ipython",
    "version": 3
   },
   "file_extension": ".py",
   "mimetype": "text/x-python",
   "name": "python",
   "nbconvert_exporter": "python",
   "pygments_lexer": "ipython3",
   "version": "3.9.6"
  }
 },
 "nbformat": 4,
 "nbformat_minor": 4
}
