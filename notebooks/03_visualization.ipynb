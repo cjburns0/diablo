{
 "cells": [
  {
   "cell_type": "markdown",
   "metadata": {},
   "source": [
    "# Mount Diablo Challenge: Data Visualization\n",
    "\n",
    "This notebook creates comprehensive visualizations of the Mount Diablo Challenge race data.\n",
    "\n",
    "## Visualizations:\n",
    "1. Year-over-year performance trends\n",
    "2. Wind speed impact on race times\n",
    "3. Weather comparisons (start vs summit)\n",
    "4. Custom publication-ready charts"
   ]
  },
  {
   "cell_type": "code",
   "execution_count": null,
   "metadata": {},
   "outputs": [],
   "source": [
    "# Setup\n",
    "import sys\n",
    "import os\n",
    "\n",
    "# Add parent directory to path\n",
    "sys.path.insert(0, os.path.dirname(os.getcwd()))\n",
    "sys.path.insert(0, os.path.join(os.path.dirname(os.getcwd()), 'src'))\n",
    "\n",
    "from analysis import DiabloAnalyzer\n",
    "import config\n",
    "\n",
    "import pandas as pd\n",
    "import numpy as np\n",
    "import matplotlib.pyplot as plt\n",
    "import seaborn as sns\n",
    "\n",
    "# Set style\n",
    "sns.set_style('whitegrid')\n",
    "plt.rcParams['figure.dpi'] = 100\n",
    "plt.rcParams['savefig.dpi'] = 300\n",
    "\n",
    "%matplotlib inline"
   ]
  },
  {
   "cell_type": "code",
   "execution_count": null,
   "metadata": {},
   "outputs": [],
   "source": [
    "# Initialize analyzer\n",
    "analyzer = DiabloAnalyzer()\n",
    "\n",
    "# Load data\n",
    "df_race = analyzer.get_race_results_df()\n",
    "df_weather = analyzer.get_weather_data_df()\n",
    "\n",
    "print(f\"Race results: {len(df_race)} records\")\n",
    "print(f\"Weather data: {len(df_weather)} records\")\n",
    "print(f\"Years: {sorted(df_race['year'].unique())}\")"
   ]
  },
  {
   "cell_type": "markdown",
   "metadata": {},
   "source": [
    "## 1. Year-over-Year Performance Trends\n",
    "\n",
    "Visualize how race times have evolved across years."
   ]
  },
  {
   "cell_type": "code",
   "execution_count": null,
   "metadata": {},
   "outputs": [],
   "source": [
    "# Generate the built-in plot\n",
    "fig = analyzer.plot_yearly_times_distribution()\n",
    "plt.show()"
   ]
  },
  {
   "cell_type": "markdown",
   "metadata": {},
   "source": [
    "## 2. Wind Speed Impact\n",
    "\n",
    "Compare race performance with wind conditions."
   ]
  },
  {
   "cell_type": "code",
   "execution_count": null,
   "metadata": {},
   "outputs": [],
   "source": [
    "# Generate times vs wind plot\n",
    "fig = analyzer.plot_times_with_wind()\n",
    "plt.show()"
   ]
  },
  {
   "cell_type": "markdown",
   "metadata": {},
   "source": [
    "## 3. Weather Comparison: Start vs Summit\n",
    "\n",
    "Compare weather conditions at the start and summit locations."
   ]
  },
  {
   "cell_type": "code",
   "execution_count": null,
   "metadata": {},
   "outputs": [],
   "source": [
    "# Generate wind comparison plot\n",
    "fig = analyzer.plot_wind_comparison()\n",
    "plt.show()"
   ]
  },
  {
   "cell_type": "markdown",
   "metadata": {},
   "source": [
    "## 4. Custom Visualizations\n",
    "\n",
    "Create custom publication-ready visualizations."
   ]
  },
  {
   "cell_type": "code",
   "execution_count": null,
   "metadata": {},
   "outputs": [],
   "source": [
    "# Heatmap of finish times by year and percentile\n",
    "stats = analyzer.calculate_yearly_statistics()\n",
    "\n",
    "if not stats.empty and len(stats) > 1:\n",
    "    fig, ax = plt.subplots(figsize=(12, 6))\n",
    "    \n",
    "    # Prepare data for heatmap\n",
    "    heatmap_data = stats[['year', 'p25', 'median', 'p75', 'mean']].set_index('year')\n",
    "    # Convert to minutes\n",
    "    heatmap_data = heatmap_data / 60\n",
    "    \n",
    "    # Create heatmap\n",
    "    sns.heatmap(heatmap_data.T, annot=True, fmt='.1f', cmap='RdYlGn_r', \n",
    "                cbar_kws={'label': 'Time (minutes)'}, ax=ax)\n",
    "    \n",
    "    ax.set_xlabel('Year', fontsize=12, fontweight='bold')\n",
    "    ax.set_ylabel('Statistic', fontsize=12, fontweight='bold')\n",
    "    ax.set_title('Race Time Statistics Heatmap', fontsize=14, fontweight='bold')\n",
    "    \n",
    "    plt.tight_layout()\n",
    "    plt.show()"
   ]
  },
  {
   "cell_type": "code",
   "execution_count": null,
   "metadata": {},
   "outputs": [],
   "source": [
    "# Multi-panel comprehensive dashboard\n",
    "fig = plt.figure(figsize=(16, 12))\n",
    "gs = fig.add_gridspec(3, 2, hspace=0.3, wspace=0.3)\n",
    "\n",
    "# Calculate statistics\n",
    "stats = analyzer.calculate_yearly_statistics()\n",
    "combined = analyzer.get_combined_statistics()\n",
    "\n",
    "# Panel 1: Mean and median times\n",
    "ax1 = fig.add_subplot(gs[0, :])\n",
    "if not stats.empty:\n",
    "    ax1.plot(stats['year'], stats['mean'] / 60, marker='o', label='Mean', linewidth=2, markersize=8)\n",
    "    ax1.plot(stats['year'], stats['median'] / 60, marker='s', label='Median', linewidth=2, markersize=8)\n",
    "    ax1.fill_between(stats['year'], stats['p25'] / 60, stats['p75'] / 60, alpha=0.2, label='IQR')\n",
    "    ax1.set_ylabel('Time (minutes)', fontweight='bold')\n",
    "    ax1.set_title('Race Time Trends', fontweight='bold', fontsize=12)\n",
    "    ax1.legend()\n",
    "    ax1.grid(True, alpha=0.3)\n",
    "\n",
    "# Panel 2: Number of participants\n",
    "ax2 = fig.add_subplot(gs[1, 0])\n",
    "if not stats.empty:\n",
    "    ax2.bar(stats['year'], stats['count'], color='steelblue', alpha=0.7)\n",
    "    ax2.set_xlabel('Year', fontweight='bold')\n",
    "    ax2.set_ylabel('Participants', fontweight='bold')\n",
    "    ax2.set_title('Participation by Year', fontweight='bold', fontsize=12)\n",
    "    ax2.grid(True, alpha=0.3, axis='y')\n",
    "\n",
    "# Panel 3: Wind speeds\n",
    "ax3 = fig.add_subplot(gs[1, 1])\n",
    "if not df_weather.empty:\n",
    "    weather_summary = df_weather.groupby(['year', 'location'])['windspeed_10m'].mean().unstack()\n",
    "    if not weather_summary.empty:\n",
    "        weather_summary.plot(kind='bar', ax=ax3, alpha=0.7)\n",
    "        ax3.set_xlabel('Year', fontweight='bold')\n",
    "        ax3.set_ylabel('Avg Wind Speed (mph)', fontweight='bold')\n",
    "        ax3.set_title('Average Wind Speed by Location', fontweight='bold', fontsize=12)\n",
    "        ax3.legend(title='Location')\n",
    "        ax3.grid(True, alpha=0.3, axis='y')\n",
    "        plt.setp(ax3.xaxis.get_majorticklabels(), rotation=0)\n",
    "\n",
    "# Panel 4: Temperature comparison\n",
    "ax4 = fig.add_subplot(gs[2, 0])\n",
    "if not df_weather.empty:\n",
    "    temp_summary = df_weather.groupby(['year', 'location'])['temperature_2m'].mean().unstack()\n",
    "    if not temp_summary.empty:\n",
    "        temp_summary.plot(kind='line', ax=ax4, marker='o', linewidth=2, markersize=8)\n",
    "        ax4.set_xlabel('Year', fontweight='bold')\n",
    "        ax4.set_ylabel('Avg Temperature (°F)', fontweight='bold')\n",
    "        ax4.set_title('Average Temperature by Location', fontweight='bold', fontsize=12)\n",
    "        ax4.legend(title='Location')\n",
    "        ax4.grid(True, alpha=0.3)\n",
    "\n",
    "# Panel 5: Wind gusts\n",
    "ax5 = fig.add_subplot(gs[2, 1])\n",
    "if not df_weather.empty:\n",
    "    gust_summary = df_weather.groupby(['year', 'location'])['wind_gusts_10m'].max().unstack()\n",
    "    if not gust_summary.empty:\n",
    "        gust_summary.plot(kind='line', ax=ax5, marker='s', linewidth=2, markersize=8)\n",
    "        ax5.set_xlabel('Year', fontweight='bold')\n",
    "        ax5.set_ylabel('Max Wind Gust (mph)', fontweight='bold')\n",
    "        ax5.set_title('Maximum Wind Gusts by Location', fontweight='bold', fontsize=12)\n",
    "        ax5.legend(title='Location')\n",
    "        ax5.grid(True, alpha=0.3)\n",
    "\n",
    "fig.suptitle('Mount Diablo Challenge: Comprehensive Analysis Dashboard', \n",
    "             fontsize=16, fontweight='bold', y=0.995)\n",
    "\n",
    "plt.show()"
   ]
  },
  {
   "cell_type": "markdown",
   "metadata": {},
   "source": [
    "## 5. Interactive Analysis\n",
    "\n",
    "Explore specific years and create custom visualizations."
   ]
  },
  {
   "cell_type": "code",
   "execution_count": null,
   "metadata": {},
   "outputs": [],
   "source": [
    "# Select a year to analyze in detail\n",
    "year_to_analyze = df_race['year'].max()\n",
    "\n",
    "df_year = df_race[df_race['year'] == year_to_analyze].copy()\n",
    "df_year['chip_time_minutes'] = df_year['chip_time_seconds'] / 60\n",
    "\n",
    "print(f\"Analyzing year: {year_to_analyze}\")\n",
    "print(f\"Number of finishers: {len(df_year)}\")\n",
    "\n",
    "# Create detailed visualization for this year\n",
    "fig, axes = plt.subplots(2, 2, figsize=(14, 10))\n",
    "\n",
    "# Distribution\n",
    "axes[0, 0].hist(df_year['chip_time_minutes'], bins=30, edgecolor='black', alpha=0.7)\n",
    "axes[0, 0].axvline(df_year['chip_time_minutes'].mean(), color='red', \n",
    "                   linestyle='--', linewidth=2, label='Mean')\n",
    "axes[0, 0].axvline(df_year['chip_time_minutes'].median(), color='blue', \n",
    "                   linestyle='--', linewidth=2, label='Median')\n",
    "axes[0, 0].set_xlabel('Chip Time (minutes)', fontweight='bold')\n",
    "axes[0, 0].set_ylabel('Frequency', fontweight='bold')\n",
    "axes[0, 0].set_title(f'Time Distribution ({year_to_analyze})', fontweight='bold')\n",
    "axes[0, 0].legend()\n",
    "axes[0, 0].grid(True, alpha=0.3, axis='y')\n",
    "\n",
    "# Age vs Time\n",
    "if 'age' in df_year.columns:\n",
    "    df_year_clean = df_year[df_year['age'].notna()]\n",
    "    axes[0, 1].scatter(df_year_clean['age'], df_year_clean['chip_time_minutes'], alpha=0.5)\n",
    "    axes[0, 1].set_xlabel('Age', fontweight='bold')\n",
    "    axes[0, 1].set_ylabel('Chip Time (minutes)', fontweight='bold')\n",
    "    axes[0, 1].set_title(f'Age vs Performance ({year_to_analyze})', fontweight='bold')\n",
    "    axes[0, 1].grid(True, alpha=0.3)\n",
    "\n",
    "# Gender comparison\n",
    "if 'gender' in df_year.columns:\n",
    "    df_year.boxplot(column='chip_time_minutes', by='gender', ax=axes[1, 0])\n",
    "    axes[1, 0].set_xlabel('Gender', fontweight='bold')\n",
    "    axes[1, 0].set_ylabel('Chip Time (minutes)', fontweight='bold')\n",
    "    axes[1, 0].set_title(f'Times by Gender ({year_to_analyze})', fontweight='bold')\n",
    "    plt.suptitle('')  # Remove default title\n",
    "\n",
    "# Top 10 finishers\n",
    "top10 = df_year.nsmallest(10, 'chip_time_minutes')\n",
    "y_pos = np.arange(len(top10))\n",
    "axes[1, 1].barh(y_pos, top10['chip_time_minutes'], alpha=0.7)\n",
    "axes[1, 1].set_yticks(y_pos)\n",
    "axes[1, 1].set_yticklabels([name.split('(')[0].strip()[:20] for name in top10['name']])\n",
    "axes[1, 1].invert_yaxis()\n",
    "axes[1, 1].set_xlabel('Chip Time (minutes)', fontweight='bold')\n",
    "axes[1, 1].set_title(f'Top 10 Finishers ({year_to_analyze})', fontweight='bold')\n",
    "axes[1, 1].grid(True, alpha=0.3, axis='x')\n",
    "\n",
    "plt.tight_layout()\n",
    "plt.show()"
   ]
  },
  {
   "cell_type": "markdown",
   "metadata": {},
   "source": [
    "## 6. Export Charts\n",
    "\n",
    "Save all visualizations to the output directory."
   ]
  },
  {
   "cell_type": "code",
   "execution_count": null,
   "metadata": {},
   "outputs": [],
   "source": [
    "# Generate and save all plots\n",
    "output_dir = config.CHARTS_DIR\n",
    "os.makedirs(output_dir, exist_ok=True)\n",
    "\n",
    "print(f\"Generating all plots...\")\n",
    "analyzer.generate_all_plots(output_dir=output_dir)\n",
    "\n",
    "print(f\"\\nAll charts saved to: {output_dir}\")\n",
    "print(\"\\nGenerated files:\")\n",
    "for file in os.listdir(output_dir):\n",
    "    if file.endswith('.png'):\n",
    "        print(f\"  - {file}\")"
   ]
  },
  {
   "cell_type": "code",
   "execution_count": null,
   "metadata": {},
   "outputs": [],
   "source": [
    "# Close analyzer\n",
    "analyzer.close()\n",
    "print(\"\\nVisualization complete!\")"
   ]
  },
  {
   "cell_type": "markdown",
   "metadata": {},
   "source": [
    "## Next Steps\n",
    "\n",
    "- Apply custom styling from aura.build design template\n",
    "- Create interactive dashboards using Plotly\n",
    "- Export data for use in web visualizations\n",
    "- Generate reports and presentations"
   ]
  }
 ],
 "metadata": {
  "kernelspec": {
   "display_name": "Python 3",
   "language": "python",
   "name": "python3"
  },
  "language_info": {
   "codemirror_mode": {
    "name": "ipython",
    "version": 3
   },
   "file_extension": ".py",
   "mimetype": "text/x-python",
   "name": "python",
   "nbconvert_exporter": "python",
   "pygments_lexer": "ipython3",
   "version": "3.9.6"
  }
 },
 "nbformat": 4,
 "nbformat_minor": 4
}
